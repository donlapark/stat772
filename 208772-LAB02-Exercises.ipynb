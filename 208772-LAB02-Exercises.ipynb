{
 "cells": [
  {
   "cell_type": "markdown",
   "metadata": {
    "id": "rUWDxJYaXbGS"
   },
   "source": [
    "208772 Statistical Learning for Data Science"
   ]
  },
  {
   "cell_type": "code",
   "execution_count": null,
   "metadata": {
    "id": "W6BO5Vkvd0Gp"
   },
   "outputs": [],
   "source": [
    "import numpy as np\n",
    "from PIL import Image\n",
    "import matplotlib.pyplot as plt\n",
    "\n",
    "#download an image\n",
    "!wget -O image.png https://www.tensorflow.org/tutorials/images/classification_files/output_N1loMlbYHeiJ_0.png\n",
    "\n",
    "#load image and convert to numpy array\n",
    "img_file = Image.open(\"image.png\").convert('L')\n",
    "img = np.array(img_file.getdata(), dtype=np.uint8)\n",
    "img = np.resize(img, (img_file.size[1], img_file.size[0]))\n"
   ]
  },
  {
   "cell_type": "code",
   "execution_count": null,
   "metadata": {
    "id": "uSMlnJdyfKFA"
   },
   "outputs": [],
   "source": [
    "print(img.shape)\n",
    "\n",
    "plt.imshow(img, cmap='gray', vmin=0, vmax=255);"
   ]
  },
  {
   "cell_type": "code",
   "execution_count": null,
   "metadata": {
    "id": "j-lSuES37-5t"
   },
   "outputs": [],
   "source": [
    "img"
   ]
  },
  {
   "cell_type": "markdown",
   "metadata": {
    "id": "pp8J2lKI0Vea"
   },
   "source": [
    "### Exercise\n",
    "\n",
    "1. สมมติให้ $I$ เป็นรูปภาพ การปรับ contrast บน $I$ จะใช้สูตร\n",
    "$$ I' = \\text{Truncate}(F(I-127.5)+127.5) $$\n",
    "โดยที่ \n",
    "* $I'$ เป็นรูปใหม่ที่ได้   \n",
    "* $F$ มีค่าระหว่าง $0$ กับ $1$  \n",
    "* $\\text{Truncate}(x)=0$ ถ้า $x<0$\n",
    "* $\\text{Truncate}(x)=255$ ถ้า $x>255$  \n",
    "จงเขียนฟังก์ชัน `contrast(img, F)` สำหรับการปรับ contrast ของรูป `img` ด้วยสูตรข้างบน โดยที่ $F$ มีค่าเท่ากับ `F`"
   ]
  },
  {
   "cell_type": "code",
   "execution_count": null,
   "metadata": {
    "id": "w3Q0ni4-_j26"
   },
   "outputs": [],
   "source": [
    "img.shape"
   ]
  },
  {
   "cell_type": "code",
   "execution_count": null,
   "metadata": {
    "id": "FjG2fyzWXqxU"
   },
   "outputs": [],
   "source": [
    "def contrast(img, F):\n",
    "  # img: the numpy array of an image\n",
    "  # out: contrast adjusted image with factor F"
   ]
  },
  {
   "cell_type": "code",
   "execution_count": null,
   "metadata": {
    "id": "RBntPCk6gW2y"
   },
   "outputs": [],
   "source": [
    "plt.imshow(contrast(img, 0.7), cmap='gray', vmin=0, vmax=255);"
   ]
  },
  {
   "cell_type": "code",
   "execution_count": null,
   "metadata": {
    "id": "8R4O1R_ah6yH"
   },
   "outputs": [],
   "source": [
    "plt.imshow(contrast(img, 0.3), cmap='gray', vmin=0, vmax=255);"
   ]
  },
  {
   "cell_type": "markdown",
   "metadata": {
    "id": "KtXmz3T1Xq4S"
   },
   "source": [
    "2. เขียนฟังก์ชัน `flip(img)` สำหรับพลิกรูป `img`ตามแกนตั้ง"
   ]
  },
  {
   "cell_type": "code",
   "execution_count": null,
   "metadata": {
    "id": "m0V7i0PVdwEW"
   },
   "outputs": [],
   "source": [
    "def flip(img):\n",
    "  # img: the numpy array of an image\n",
    "  # out: img flipped with respect to vertical axis\n"
   ]
  },
  {
   "cell_type": "code",
   "execution_count": null,
   "metadata": {
    "id": "53-Al_IsGNAR"
   },
   "outputs": [],
   "source": [
    "img[:,j] = x # change j-th column to vector x\n",
    "\n",
    "img[i,:] = x # change i-th column to vector x"
   ]
  },
  {
   "cell_type": "code",
   "execution_count": null,
   "metadata": {
    "id": "AMVNnn-Fi63r"
   },
   "outputs": [],
   "source": [
    "plt.imshow(flip(img), cmap='gray', vmin=0, vmax=255);"
   ]
  },
  {
   "cell_type": "markdown",
   "metadata": {
    "id": "3ov9FLdHifVO"
   },
   "source": [
    "3. เขียนฟังก์ชัน `rotate(img)` สำหรับการหมุน `img` ทวนเข็มไป 90 องศา"
   ]
  },
  {
   "cell_type": "code",
   "execution_count": null,
   "metadata": {
    "id": "FQcyEOtUjFpk"
   },
   "outputs": [],
   "source": [
    "def rotate(img):\n",
    "  # img: the numpy array of an image\n",
    "  # out: img rotated 90 degree counterclockwisely\n",
    "\n",
    "\n",
    "\n"
   ]
  },
  {
   "cell_type": "code",
   "execution_count": null,
   "metadata": {
    "id": "-bV1rz92i9K0"
   },
   "outputs": [],
   "source": [
    "plt.imshow(rotate(img), cmap='gray', vmin=0, vmax=255);"
   ]
  }
 ],
 "metadata": {
  "colab": {
   "collapsed_sections": [],
   "name": "229351-LAB02.ipynb",
   "provenance": [
    {
     "file_id": "1k58-rg4oQW3wpRV4o0QKkjNuoDH4G6JK",
     "timestamp": 1576730343500
    }
   ]
  },
  "kernelspec": {
   "display_name": "Python 3 (ipykernel)",
   "language": "python",
   "name": "python3"
  },
  "language_info": {
   "codemirror_mode": {
    "name": "ipython",
    "version": 3
   },
   "file_extension": ".py",
   "mimetype": "text/x-python",
   "name": "python",
   "nbconvert_exporter": "python",
   "pygments_lexer": "ipython3",
   "version": "3.10.12"
  }
 },
 "nbformat": 4,
 "nbformat_minor": 4
}
